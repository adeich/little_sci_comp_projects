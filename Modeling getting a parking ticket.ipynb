{
 "cells": [
  {
   "cell_type": "markdown",
   "metadata": {},
   "source": [
    "# The statistics of being ticketed for parking too long \n",
    "### How safe is it to park for various lengths over the time limit?\n",
    "I often park on a street with free parking but a 2-hour time limit and then lock the car and walk away. I have tended to be very careful to come retrieve the car by exactly the 2-hour mark. But I have recently realized, thanks to a conversation with a friend, that the odds of getting a ticket even just a few minutes outside the 2 hour window are nearly zero. In this notebook, I'm interested in modeling just how risky it is to park over the time limit by various amounts, and how this depends on the behavior of the parking enforcement professionals. \n",
    "\n",
    "In order for you to get a ticket after you leave your car, two events need to occur, in this sequences: \n",
    "1. An parking-rule enforcement person arrives (and records that your car is there). \n",
    "* They arrive again, at least 2-hours after their first arrival, at which time they can give the ticket.  \n",
    "\n",
    "<img src=\"image.png\">"
   ]
  },
  {
   "cell_type": "code",
   "execution_count": 5,
   "metadata": {},
   "outputs": [],
   "source": [
    "import numpy as np\n",
    "import scipy \n",
    "import pandas as pd \n",
    "import matplotlib as mpl\n",
    "%matplotlib inline"
   ]
  },
  {
   "cell_type": "markdown",
   "metadata": {},
   "source": [
    "## The broadest model\n",
    "No matter what pattern the enforcers are using to traverse the streets, the first arrival will be totally uncorrelated with when you park. Thus it seems fair to let this first random component, T1, be drawn from a [negative exponential distribution](https://en.wikipedia.org/wiki/Exponential_distribution): "
   ]
  },
  {
   "cell_type": "code",
   "execution_count": 156,
   "metadata": {},
   "outputs": [
    {
     "data": {
      "text/plain": [
       "[<matplotlib.lines.Line2D at 0x1a1c5d7e90>]"
      ]
     },
     "execution_count": 156,
     "metadata": {},
     "output_type": "execute_result"
    },
    {
     "data": {
      "image/png": "[encoded data removed]",
      "text/plain": [
       "<Figure size 432x288 with 1 Axes>"
      ]
     },
     "metadata": {
      "needs_background": "light"
     },
     "output_type": "display_data"
    }
   ],
   "source": [
    "from scipy.stats import expon\n",
    "import matplotlib.pyplot as plt\n",
    "fig, ax = plt.subplots(1, 1)\n",
    "x = np.linspace(expon.ppf(0.01),\n",
    "                expon.ppf(0.99), 100)\n",
    "ax.set_ylabel('probability density')\n",
    "ax.set_xlabel('Time till first arrival (hours)')\n",
    "ax.set_title('PDF of time till first arrival')\n",
    "ax.plot(3*x, expon.pdf(x),\n",
    "       'r-', lw=5, alpha=0.6, label='expon pdf')"
   ]
  },
  {
   "cell_type": "markdown",
   "metadata": {},
   "source": [
    "I've decided to model the PDF of the time between arrivals of the enforcer with the gamma function. \n",
    "\n",
    "Here, the PDF mean corresponds to mean time between visits; the variance, $\\sigma^2$, of the PDF corresponds to how imprecise the periodicity of the visits is. \n",
    "\n",
    "When $\\sigma$ becomes so big that it equals the mean, then scale and a both become 1, and the gamma function becomes simply a negative exponential distribution again, which is what we'd like to happen. \n",
    "\n",
    "Here is the Gamma distribution PDF: \n",
    "\\begin{align}\n",
    "\\mathrm{PDF_{wikipedia}}(x) = \\frac{1}{\\Gamma(k)\\theta^k} x^{k-1} e^{-x/\\theta},\n",
    "\\end{align}\n",
    "\n",
    "where $\\theta$ is the mean wait time between individual *iid* (exponential distribution) events and $k$ is the total number of events. \n",
    "\n",
    "Meanwhile, here's the scipy form: \n",
    "\n",
    "\\begin{align}\n",
    "\\mathrm{PDF_{scipy}}(x) = \\frac{x^{a-1} e^{-x}}{\\Gamma(a)};\n",
    "\\end{align}\n",
    "\n",
    "and more specifically (according to the scipy docs): \n",
    "\n",
    "\\begin{align}\n",
    "\\mathrm{PDF_{scipy}}(x, a, \\mathrm{loc}, \\mathrm{scale}) &= \\frac{1}{\\mathrm{scale}}  \\frac{(\\frac{(x-\\mathrm{loc})}{\\mathrm{scale}})^{a-1} e^{-(\\frac{(x-\\mathrm{loc})}{\\mathrm{scale}})}}{\\Gamma(a)} \n",
    "\\end{align}\n",
    "\n",
    "\n",
    "Comparing these two, it appears that \n",
    "\\begin{align}\n",
    "k &\\rightarrow a\\\\\n",
    "x_{\\mathrm{wikipedia}} &\\rightarrow x_{\\mathrm{scipy}}-\\mathrm{loc}\\\\\n",
    "\\theta &\\rightarrow \\mathrm{scale}.\n",
    "\\end{align}\n",
    "\n",
    "I want to figure out how to substitute the scipy arguments for the equivalent wikipedia measurements of $\\sigma$ and mean; comparing, I see that \n",
    "\n",
    "\\begin{align}\n",
    "\\mathrm{mean} &= \\theta k \\\\\n",
    "& \\rightarrow \\mathrm{scale}\\cdot a \n",
    "\\end{align}\n",
    "\n",
    "and \n",
    "\n",
    "\\begin{align}\n",
    "\\sigma &=  \\theta\\sqrt{k} \\\\\n",
    "&\\rightarrow \\mathrm{scale} \\sqrt{a}.\n",
    "\\end{align}\n",
    "\n",
    "Finally, solving these two equations for scale and $a$ we get:\n",
    "\n",
    "\\begin{align}\n",
    "\\mathrm{scale} = \\frac{\\sigma^2}{\\mathrm{mean}};\n",
    "\\end{align}\n",
    "\n",
    "\n",
    "\\begin{align}\n",
    "a = \\big{(}\\frac{\\mathrm{mean}}{\\sigma}\\big{)}^2.\n",
    "\\end{align}\n",
    "\n",
    "\n",
    "\n",
    "\n"
   ]
  },
  {
   "cell_type": "code",
   "execution_count": 192,
   "metadata": {},
   "outputs": [
    {
     "data": {
      "text/plain": [
       "[<matplotlib.lines.Line2D at 0x1a1cc1fb90>]"
      ]
     },
     "execution_count": 192,
     "metadata": {},
     "output_type": "execute_result"
    },
    {
     "data": {
      "image/png": "[encoded data removed]",
      "text/plain": [
       "<Figure size 432x288 with 1 Axes>"
      ]
     },
     "metadata": {
      "needs_background": "light"
     },
     "output_type": "display_data"
    }
   ],
   "source": [
    "from scipy.stats import gamma\n",
    "fig, ax = plt.subplots(1, 1)\n",
    "mean = 10.0\n",
    "sigma = 0.5\n",
    "a = (mean/sigma)**2\n",
    "scale = sigma**2 / mean\n",
    "loc =0\n",
    "x = np.linspace(0, 2*mean, 100)\n",
    "ax.set_xlabel('Time till next arrival (hours)')\n",
    "ax.set_ylabel('PDF')\n",
    "ax.plot(x, gamma.pdf(x, a=a, loc=loc, scale=scale), 'k-', lw=2, label='frozen pdf')\n"
   ]
  },
  {
   "cell_type": "markdown",
   "metadata": {},
   "source": [
    "## Modeling ticket PDF with Monte Carlo"
   ]
  },
  {
   "cell_type": "code",
   "execution_count": 378,
   "metadata": {
    "scrolled": true
   },
   "outputs": [
    {
     "name": "stdout",
     "output_type": "stream",
     "text": [
      "8817\n"
     ]
    },
    {
     "data": {
      "image/png": "[encoded data removed]",
      "text/plain": [
       "<Figure size 432x288 with 1 Axes>"
      ]
     },
     "metadata": {
      "needs_background": "light"
     },
     "output_type": "display_data"
    },
    {
     "name": "stdout",
     "output_type": "stream",
     "text": [
      "    percentile  wait time\n",
      "0          1.0        4.0\n",
      "1          3.0        7.0\n",
      "2          5.0       10.0\n",
      "3          7.0       12.0\n",
      "4          9.0       13.0\n",
      "5         11.0       15.0\n",
      "6         13.0       16.0\n",
      "7         15.0       18.0\n",
      "8         18.0       19.0\n",
      "9         20.0       20.0\n",
      "10        22.0       21.0\n",
      "11        24.0       23.0\n",
      "12        26.0       24.0\n",
      "13        28.0       25.0\n",
      "14        30.0       26.0\n",
      "15        32.0       27.0\n",
      "16        34.0       28.0\n",
      "17        36.0       29.0\n",
      "18        38.0       31.0\n",
      "19        40.0       32.0\n",
      "20        42.0       33.0\n",
      "21        44.0       35.0\n",
      "22        46.0       36.0\n",
      "23        48.0       37.0\n",
      "24        51.0       38.0\n",
      "25        53.0       40.0\n",
      "26        55.0       41.0\n",
      "27        57.0       43.0\n",
      "28        59.0       44.0\n",
      "29        61.0       46.0\n",
      "30        63.0       48.0\n",
      "31        65.0       49.0\n",
      "32        67.0       51.0\n",
      "33        69.0       53.0\n",
      "34        71.0       55.0\n",
      "35        73.0       57.0\n",
      "36        75.0       59.0\n",
      "37        77.0       62.0\n",
      "38        79.0       65.0\n",
      "39        81.0       68.0\n",
      "40        84.0       72.0\n",
      "41        86.0       76.0\n",
      "42        88.0       81.0\n",
      "43        90.0       87.0\n",
      "44        92.0       95.0\n",
      "45        94.0      104.0\n",
      "46        96.0      114.0\n",
      "47        98.0      133.0\n"
     ]
    },
    {
     "data": {
      "image/png": "[encoded data removed]",
      "text/plain": [
       "<Figure size 432x288 with 1 Axes>"
      ]
     },
     "metadata": {
      "needs_background": "light"
     },
     "output_type": "display_data"
    }
   ],
   "source": [
    "def make_wait_times(N_randos, mean=30, sigma=10, maxtime=120):\n",
    "    a = (mean/sigma)**2\n",
    "    scale = sigma**2 / mean\n",
    "    wait_times = gamma.rvs(a=a, loc=0, scale=scale, \n",
    "                  size=[N_randos])\n",
    "    #print(len(wait_times))\n",
    "    return wait_times\n",
    "\n",
    "def generate_data(N_trials, mean=30, sigma=10, maxtime=120):\n",
    "    mean = float(mean); sigma = float(sigma); maxtime = float(maxtime)\n",
    "    N_randos = int(N_trials * (maxtime/mean))\n",
    "    initial_wait = make_wait_times(N_randos=N_randos, mean=mean, sigma=mean, maxtime=maxtime)\n",
    "    wait_times = make_wait_times(N_randos=N_randos, mean=mean, sigma=sigma, maxtime=maxtime)\n",
    "    data = np.zeros([len(wait_times), 2])\n",
    "    trial = 0\n",
    "    i, j = 0, 0\n",
    "    elapsed_time = 0.0\n",
    "    while i < N_randos-2:\n",
    "        while elapsed_time < maxtime:\n",
    "            elapsed_time += wait_times[i]\n",
    "            if i >= N_randos-2:\n",
    "                elapsed_time = 0.0\n",
    "                break\n",
    "            i += 1\n",
    "            j += 1\n",
    "        #print(trial, i, j, elapsed_time)\n",
    "        if i < N_randos-2:\n",
    "            data[trial] = [elapsed_time + initial_wait[i], j]\n",
    "        trial += 1\n",
    "        elapsed_time = 0.0\n",
    "        j = 0\n",
    "    return data[:trial]\n",
    "    \n",
    "def make_histograms(data):\n",
    "    wait_times = data[:,0]\n",
    "\n",
    "    # the histogram of the data\n",
    "    n, bins, patches = plt.hist(wait_times, bins=np.linspace(120,250,40),\n",
    "                               cumulative=False)\n",
    "\n",
    "\n",
    "    plt.xlabel('Time until ticketed (minutes)')\n",
    "    plt.ylabel('N counts')\n",
    "    plt.title('Histogram of stuff')\n",
    "    plt.grid(True)\n",
    "    plt.show()\n",
    "    \n",
    "def compute_percentiles(data):\n",
    "    percentile = np.linspace(1, 98, 48)\n",
    "    x = np.percentile(data[:,0], percentile, interpolation='higher')\n",
    "    df = pd.DataFrame(data=zip(percentile, x - 120), columns=['percentile', 'wait time'])\n",
    "    print(df.round(0))\n",
    "    fig, ax = plt.subplots(1, 1)\n",
    "    ax.set_xlabel('time until ticket (minutes)')\n",
    "    ax.set_xlim([120,250])\n",
    "    ax.plot(x, percentile)\n",
    "    \n",
    "data = generate_data(N_trials=10000, mean=30, sigma=8)\n",
    "print(len(data))\n",
    "\n",
    "make_histograms(data)\n",
    "compute_percentiles(data)"
   ]
  },
  {
   "cell_type": "code",
   "execution_count": 374,
   "metadata": {},
   "outputs": [
    {
     "name": "stdout",
     "output_type": "stream",
     "text": [
      "    percentile  wait time\n",
      "0          0.0     -120.0\n",
      "1          5.0       10.0\n",
      "2         11.0       15.0\n",
      "3         16.0       19.0\n",
      "4         21.0       22.0\n",
      "5         26.0       25.0\n",
      "6         32.0       28.0\n",
      "7         37.0       31.0\n",
      "8         42.0       34.0\n",
      "9         47.0       37.0\n",
      "10        53.0       40.0\n",
      "11        58.0       44.0\n",
      "12        63.0       48.0\n",
      "13        68.0       53.0\n",
      "14        74.0       59.0\n",
      "15        79.0       65.0\n",
      "16        84.0       73.0\n",
      "17        89.0       86.0\n",
      "18        95.0      108.0\n",
      "19       100.0      359.0\n"
     ]
    },
    {
     "data": {
      "text/plain": [
       "[<matplotlib.lines.Line2D at 0x1a211a2790>]"
      ]
     },
     "execution_count": 374,
     "metadata": {},
     "output_type": "execute_result"
    },
    {
     "data": {
      "image/png": "[encoded data removed]",
      "text/plain": [
       "<Figure size 432x288 with 1 Axes>"
      ]
     },
     "metadata": {
      "needs_background": "light"
     },
     "output_type": "display_data"
    }
   ],
   "source": []
  }
 ],
 "metadata": {
  "kernelspec": {
   "display_name": "Python 2",
   "language": "python",
   "name": "python2"
  },
  "language_info": {
   "codemirror_mode": {
    "name": "ipython",
    "version": 2
   },
   "file_extension": ".py",
   "mimetype": "text/x-python",
   "name": "python",
   "nbconvert_exporter": "python",
   "pygments_lexer": "ipython2",
   "version": "2.7.15"
  }
 },
 "nbformat": 4,
 "nbformat_minor": 2
}
