{
 "cells": [
  {
   "cell_type": "markdown",
   "metadata": {},
   "source": [
    "# The statistics of being ticketed for parking too long \n",
    "### How safe is it to park for various lengths over the time limit?\n",
    "I often park on a street with free parking but a 2-hour time limit and then lock the car and walk away. I have tended to be very careful to come retrieve the car by exactly the 2-hour mark. But I have recently realized, thanks to a conversation with a friend, that the odds of getting a ticket even just a few minutes outside the 2 hour window are nearly zero. In this notebook, I'm interested in modeling just how risky it is to park over the time limit by various amounts, and how this depends on the behavior of the parking enforcement professionals. \n",
    "\n",
    "In order for you to get a ticket after you leave your car, two events need to occur, in this sequences: \n",
    "1. An parking-rule enforcement person arrives (and records that your car is there). \n",
    "* They arrive again, at least 2-hours after their first arrival, at which time they can give the ticket.  \n",
    "\n",
    "<img src=\"image.png\">"
   ]
  },
  {
   "cell_type": "code",
   "execution_count": 5,
   "metadata": {},
   "outputs": [],
   "source": [
    "import numpy as np\n",
    "import scipy \n",
    "import pandas as pd \n",
    "import matplotlib as mpl\n",
    "%matplotlib inline"
   ]
  },
  {
   "cell_type": "markdown",
   "metadata": {},
   "source": [
    "## The broadest model\n",
    "No matter what pattern the enforcers are using to traverse the streets, the first arrival will be totally uncorrelated with when you park. Thus it seems fair to let this first random component, T1, be drawn from a [negative exponential distribution](https://en.wikipedia.org/wiki/Exponential_distribution): "
   ]
  },
  {
   "cell_type": "code",
   "execution_count": 156,
   "metadata": {},
   "outputs": [
    {
     "data": {
      "text/plain": [
       "[<matplotlib.lines.Line2D at 0x1a1c5d7e90>]"
      ]
     },
     "execution_count": 156,
     "metadata": {},
     "output_type": "execute_result"
    },
    {
     "data": {
      "image/png": "[encoded data removed]",
      "text/plain": [
       "<Figure size 432x288 with 1 Axes>"
      ]
     },
     "metadata": {
      "needs_background": "light"
     },
     "output_type": "display_data"
    }
   ],
   "source": [
    "from scipy.stats import expon\n",
    "import matplotlib.pyplot as plt\n",
    "fig, ax = plt.subplots(1, 1)\n",
    "x = np.linspace(expon.ppf(0.01),\n",
    "                expon.ppf(0.99), 100)\n",
    "ax.set_ylabel('probability density')\n",
    "ax.set_xlabel('Time till first arrival (hours)')\n",
    "ax.set_title('PDF of time till first arrival')\n",
    "ax.plot(3*x, expon.pdf(x),\n",
    "       'r-', lw=5, alpha=0.6, label='expon pdf')"
   ]
  },
  {
   "cell_type": "markdown",
   "metadata": {},
   "source": [
    "I've decided to model the PDF of the time between arrivals of the enforcer with the gamma function. \n",
    "\n",
    "Here, the PDF mean corresponds to mean time between visits; the variance, $\\sigma^2$, of the PDF corresponds to how imprecise the periodicity of the visits is. \n",
    "\n",
    "When $\\sigma$ becomes so big that it equals the mean, then scale and a both become 1, and the gamma function becomes simply a negative exponential distribution again, which is what we'd like to happen. \n",
    "\n",
    "Here is the Gamma distribution PDF: \n",
    "\\begin{align}\n",
    "\\mathrm{PDF_{wikipedia}}(x) = \\frac{1}{\\Gamma(k)\\theta^k} x^{k-1} e^{-x/\\theta},\n",
    "\\end{align}\n",
    "\n",
    "where $\\theta$ is the mean wait time between individual *iid* (exponential distribution) events and $k$ is the total number of events. \n",
    "\n",
    "Meanwhile, here's the scipy form: \n",
    "\n",
    "\\begin{align}\n",
    "\\mathrm{PDF_{scipy}}(x) = \\frac{x^{a-1} e^{-x}}{\\Gamma(a)};\n",
    "\\end{align}\n",
    "\n",
    "and more specifically (according to the scipy docs): \n",
    "\n",
    "\\begin{align}\n",
    "\\mathrm{PDF_{scipy}}(x, a, \\mathrm{loc}, \\mathrm{scale}) &= \\frac{1}{\\mathrm{scale}}  \\frac{(\\frac{(x-\\mathrm{loc})}{\\mathrm{scale}})^{a-1} e^{-(\\frac{(x-\\mathrm{loc})}{\\mathrm{scale}})}}{\\Gamma(a)} \n",
    "\\end{align}\n",
    "\n",
    "\n",
    "Comparing these two, it appears that \n",
    "\\begin{align}\n",
    "k &\\rightarrow a\\\\\n",
    "x_{\\mathrm{wikipedia}} &\\rightarrow x_{\\mathrm{scipy}}-\\mathrm{loc}\\\\\n",
    "\\theta &\\rightarrow \\mathrm{scale}.\n",
    "\\end{align}\n",
    "\n",
    "I want to figure out how to substitute the scipy arguments for the equivalent wikipedia measurements of $\\sigma$ and mean; comparing, I see that \n",
    "\n",
    "\\begin{align}\n",
    "\\mathrm{mean} &= \\theta k \\\\\n",
    "& \\rightarrow \\mathrm{scale}\\cdot a \n",
    "\\end{align}\n",
    "\n",
    "and \n",
    "\n",
    "\\begin{align}\n",
    "\\sigma &=  \\theta\\sqrt{k} \\\\\n",
    "&\\rightarrow \\mathrm{scale} \\sqrt{a}.\n",
    "\\end{align}\n",
    "\n",
    "Finally, solving these two equations for scale and $a$ we get:\n",
    "\n",
    "\\begin{align}\n",
    "\\mathrm{scale} = \\frac{\\sigma^2}{\\mathrm{mean}};\n",
    "\\end{align}\n",
    "\n",
    "\n",
    "\\begin{align}\n",
    "a = \\big{(}\\frac{\\mathrm{mean}}{\\sigma}\\big{)}^2.\n",
    "\\end{align}\n",
    "\n",
    "\n",
    "\n",
    "\n"
   ]
  },
  {
   "cell_type": "code",
   "execution_count": 157,
   "metadata": {},
   "outputs": [
    {
     "data": {
      "text/plain": [
       "[<matplotlib.lines.Line2D at 0x1a1c89cd50>]"
      ]
     },
     "execution_count": 157,
     "metadata": {},
     "output_type": "execute_result"
    },
    {
     "data": {
      "image/png": "[encoded data removed]",
      "text/plain": [
       "<Figure size 432x288 with 1 Axes>"
      ]
     },
     "metadata": {
      "needs_background": "light"
     },
     "output_type": "display_data"
    }
   ],
   "source": [
    "from scipy.stats import gamma\n",
    "fig, ax = plt.subplots(1, 1)\n",
    "mean = 10.0\n",
    "sigma = 10.0\n",
    "a = (mean/sigma)**2\n",
    "scale = sigma**2 / mean\n",
    "loc =0\n",
    "#mean, var, skew, kurt = gamma.stats(a, loc=loc, scale=scale, moments='mvsk')\n",
    "#print(mean)\n",
    "#x = np.linspace(gamma.ppf(0.01, a),\n",
    "#                gamma.ppf(0.99, a), 100)\n",
    "x = np.linspace(0, 2*mean, 100)\n",
    "#print(x)\n",
    "#print(gamma.pdf(x, a=a, loc=loc, scale=scale))\n",
    "#ax.plot(x, gamma.pdf(x, a),\n",
    "#       'r-', lw=5, alpha=0.6, label='gamma pdf')\n",
    "#rv = gamma(a)\n",
    "ax.set_xlabel('Time till next arrival (hours)')\n",
    "ax.set_ylabel('PDF')\n",
    "ax.plot(x, gamma.pdf(x, a=a, loc=loc, scale=scale), 'k-', lw=2, label='frozen pdf')\n"
   ]
  }
 ],
 "metadata": {
  "kernelspec": {
   "display_name": "Python 2",
   "language": "python",
   "name": "python2"
  },
  "language_info": {
   "codemirror_mode": {
    "name": "ipython",
    "version": 2
   },
   "file_extension": ".py",
   "mimetype": "text/x-python",
   "name": "python",
   "nbconvert_exporter": "python",
   "pygments_lexer": "ipython2",
   "version": "2.7.15"
  }
 },
 "nbformat": 4,
 "nbformat_minor": 2
}
